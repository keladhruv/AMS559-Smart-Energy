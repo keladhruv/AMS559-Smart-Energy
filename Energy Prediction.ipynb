{
 "cells": [
  {
   "cell_type": "code",
   "execution_count": 1,
   "metadata": {},
   "outputs": [],
   "source": [
    "#h2 heding"
   ]
  },
  {
   "cell_type": "code",
   "execution_count": 104,
   "metadata": {},
   "outputs": [],
   "source": [
    "import pandas as pd\n",
    "import numpy as np\n",
    "import matplotlib.pyplot as plt\n",
    "from sklearn.linear_model import LinearRegression\n",
    "from datetime import datetime\n",
    "import calendar\n",
    "%matplotlib inline"
   ]
  },
  {
   "cell_type": "code",
   "execution_count": 105,
   "metadata": {},
   "outputs": [
    {
     "data": {
      "text/plain": [
       "datetime.datetime(2014, 12, 1, 0, 0)"
      ]
     },
     "execution_count": 105,
     "metadata": {},
     "output_type": "execute_result"
    }
   ],
   "source": [
    "mytime = datetime.strptime('2014-12-01 00:00:00', '%Y-%m-%d %H:%M:%S')\n",
    "mytime"
   ]
  },
  {
   "cell_type": "code",
   "execution_count": 106,
   "metadata": {},
   "outputs": [
    {
     "name": "stdout",
     "output_type": "stream",
     "text": [
      "35040\n"
     ]
    }
   ],
   "source": [
    "rng = pd.date_range('2014-12-01',periods=35040 ,freq=\"15min\")\n",
    "lmn = range(0,35040)\n",
    "print (len(rng))"
   ]
  },
  {
   "cell_type": "code",
   "execution_count": 107,
   "metadata": {},
   "outputs": [],
   "source": [
    "def timer(f):\n",
    "    start = time.time()\n",
    "    res=f()\n",
    "    end =time.time()\n",
    "    print(\"fitting time {}\".format(end-start))\n",
    "    return res"
   ]
  },
  {
   "cell_type": "code",
   "execution_count": 108,
   "metadata": {
    "scrolled": true
   },
   "outputs": [],
   "source": [
    "frame = pd.DataFrame()\n",
    "newcsvData =[]\n",
    "for i in range(1,11):\n",
    "    filePath = 'Year1\\\\Home' + str(i) + '_yr1.csv'\n",
    "    data1 = pd.read_csv(filePath , usecols=[0], names=['electricUsage'], header=None)\n",
    "    data1['userId'] = i\n",
    "    data1['dateVal'] =lmn\n",
    "    data1['month'] = rng.month\n",
    "    data1['dayOfWeek'] = rng.weekday_name\n",
    "    data1['weekday'] = rng.weekday\n",
    "    data1['hour']=rng.hour\n",
    "    data1['winter']=np.where(((data1.month==12)|(data1.month==11)|(data1.month==10)|(data1.month==4)|(data1.month==3)|(data1.month==2)|(data1.month==1)),0,1)\n",
    "    data1['winter']=data1['winter'].astype('int')\n",
    "    dummy1=pd.get_dummies(data1['dayOfWeek'])\n",
    "    data1=data1.merge(dummy1,left_index=True,right_index=True)\n",
    "    dummy2=pd.get_dummies(data1['month'])\n",
    "    data1=data1.merge(dummy2,left_index=True,right_index=True)\n",
    "    newcsvData.append(data1)\n",
    "    #print(newcsvData)\n",
    "frame=pd.concat(newcsvData)    "
   ]
  },
  {
   "cell_type": "code",
   "execution_count": 109,
   "metadata": {},
   "outputs": [],
   "source": [
    "def getUserData(id, frame):\n",
    "    currentdata = frame[frame.userId==id]\n",
    "    currentdata = currentdata.sample(frac=1).reset_index(drop=True)\n",
    "    return   np.split(currentdata, [int(.6*len(currentdata)), int(.8*len(currentdata))])"
   ]
  },
  {
   "cell_type": "code",
   "execution_count": 110,
   "metadata": {},
   "outputs": [
    {
     "data": {
      "text/html": [
       "<div>\n",
       "<style scoped>\n",
       "    .dataframe tbody tr th:only-of-type {\n",
       "        vertical-align: middle;\n",
       "    }\n",
       "\n",
       "    .dataframe tbody tr th {\n",
       "        vertical-align: top;\n",
       "    }\n",
       "\n",
       "    .dataframe thead th {\n",
       "        text-align: right;\n",
       "    }\n",
       "</style>\n",
       "<table border=\"1\" class=\"dataframe\">\n",
       "  <thead>\n",
       "    <tr style=\"text-align: right;\">\n",
       "      <th></th>\n",
       "      <th>electricUsage</th>\n",
       "      <th>userId</th>\n",
       "      <th>dateVal</th>\n",
       "      <th>month</th>\n",
       "      <th>dayOfWeek</th>\n",
       "      <th>weekday</th>\n",
       "      <th>hour</th>\n",
       "      <th>winter</th>\n",
       "      <th>Friday</th>\n",
       "      <th>Monday</th>\n",
       "      <th>...</th>\n",
       "      <th>3</th>\n",
       "      <th>4</th>\n",
       "      <th>5</th>\n",
       "      <th>6</th>\n",
       "      <th>7</th>\n",
       "      <th>8</th>\n",
       "      <th>9</th>\n",
       "      <th>10</th>\n",
       "      <th>11</th>\n",
       "      <th>12</th>\n",
       "    </tr>\n",
       "  </thead>\n",
       "  <tbody>\n",
       "    <tr>\n",
       "      <th>0</th>\n",
       "      <td>0.65018</td>\n",
       "      <td>1</td>\n",
       "      <td>0</td>\n",
       "      <td>12</td>\n",
       "      <td>Monday</td>\n",
       "      <td>0</td>\n",
       "      <td>0</td>\n",
       "      <td>0</td>\n",
       "      <td>0</td>\n",
       "      <td>1</td>\n",
       "      <td>...</td>\n",
       "      <td>0</td>\n",
       "      <td>0</td>\n",
       "      <td>0</td>\n",
       "      <td>0</td>\n",
       "      <td>0</td>\n",
       "      <td>0</td>\n",
       "      <td>0</td>\n",
       "      <td>0</td>\n",
       "      <td>0</td>\n",
       "      <td>1</td>\n",
       "    </tr>\n",
       "    <tr>\n",
       "      <th>1</th>\n",
       "      <td>1.45400</td>\n",
       "      <td>1</td>\n",
       "      <td>1</td>\n",
       "      <td>12</td>\n",
       "      <td>Monday</td>\n",
       "      <td>0</td>\n",
       "      <td>0</td>\n",
       "      <td>0</td>\n",
       "      <td>0</td>\n",
       "      <td>1</td>\n",
       "      <td>...</td>\n",
       "      <td>0</td>\n",
       "      <td>0</td>\n",
       "      <td>0</td>\n",
       "      <td>0</td>\n",
       "      <td>0</td>\n",
       "      <td>0</td>\n",
       "      <td>0</td>\n",
       "      <td>0</td>\n",
       "      <td>0</td>\n",
       "      <td>1</td>\n",
       "    </tr>\n",
       "    <tr>\n",
       "      <th>2</th>\n",
       "      <td>0.72971</td>\n",
       "      <td>1</td>\n",
       "      <td>2</td>\n",
       "      <td>12</td>\n",
       "      <td>Monday</td>\n",
       "      <td>0</td>\n",
       "      <td>0</td>\n",
       "      <td>0</td>\n",
       "      <td>0</td>\n",
       "      <td>1</td>\n",
       "      <td>...</td>\n",
       "      <td>0</td>\n",
       "      <td>0</td>\n",
       "      <td>0</td>\n",
       "      <td>0</td>\n",
       "      <td>0</td>\n",
       "      <td>0</td>\n",
       "      <td>0</td>\n",
       "      <td>0</td>\n",
       "      <td>0</td>\n",
       "      <td>1</td>\n",
       "    </tr>\n",
       "    <tr>\n",
       "      <th>3</th>\n",
       "      <td>3.10750</td>\n",
       "      <td>1</td>\n",
       "      <td>3</td>\n",
       "      <td>12</td>\n",
       "      <td>Monday</td>\n",
       "      <td>0</td>\n",
       "      <td>0</td>\n",
       "      <td>0</td>\n",
       "      <td>0</td>\n",
       "      <td>1</td>\n",
       "      <td>...</td>\n",
       "      <td>0</td>\n",
       "      <td>0</td>\n",
       "      <td>0</td>\n",
       "      <td>0</td>\n",
       "      <td>0</td>\n",
       "      <td>0</td>\n",
       "      <td>0</td>\n",
       "      <td>0</td>\n",
       "      <td>0</td>\n",
       "      <td>1</td>\n",
       "    </tr>\n",
       "    <tr>\n",
       "      <th>4</th>\n",
       "      <td>0.63572</td>\n",
       "      <td>1</td>\n",
       "      <td>4</td>\n",
       "      <td>12</td>\n",
       "      <td>Monday</td>\n",
       "      <td>0</td>\n",
       "      <td>1</td>\n",
       "      <td>0</td>\n",
       "      <td>0</td>\n",
       "      <td>1</td>\n",
       "      <td>...</td>\n",
       "      <td>0</td>\n",
       "      <td>0</td>\n",
       "      <td>0</td>\n",
       "      <td>0</td>\n",
       "      <td>0</td>\n",
       "      <td>0</td>\n",
       "      <td>0</td>\n",
       "      <td>0</td>\n",
       "      <td>0</td>\n",
       "      <td>1</td>\n",
       "    </tr>\n",
       "  </tbody>\n",
       "</table>\n",
       "<p>5 rows × 27 columns</p>\n",
       "</div>"
      ],
      "text/plain": [
       "   electricUsage  userId  dateVal  month dayOfWeek  weekday  hour  winter  \\\n",
       "0        0.65018       1        0     12    Monday        0     0       0   \n",
       "1        1.45400       1        1     12    Monday        0     0       0   \n",
       "2        0.72971       1        2     12    Monday        0     0       0   \n",
       "3        3.10750       1        3     12    Monday        0     0       0   \n",
       "4        0.63572       1        4     12    Monday        0     1       0   \n",
       "\n",
       "   Friday  Monday ...  3  4  5  6  7  8  9  10  11  12  \n",
       "0       0       1 ...  0  0  0  0  0  0  0   0   0   1  \n",
       "1       0       1 ...  0  0  0  0  0  0  0   0   0   1  \n",
       "2       0       1 ...  0  0  0  0  0  0  0   0   0   1  \n",
       "3       0       1 ...  0  0  0  0  0  0  0   0   0   1  \n",
       "4       0       1 ...  0  0  0  0  0  0  0   0   0   1  \n",
       "\n",
       "[5 rows x 27 columns]"
      ]
     },
     "execution_count": 110,
     "metadata": {},
     "output_type": "execute_result"
    }
   ],
   "source": [
    "frame.head()\n",
    "#frame.isnull().sum()"
   ]
  },
  {
   "cell_type": "code",
   "execution_count": 111,
   "metadata": {},
   "outputs": [],
   "source": [
    "from sklearn.metrics import mean_squared_error\n",
    "from sklearn.metrics import mean_absolute_error\n",
    "from sklearn.pipeline import make_pipeline\n",
    "from sklearn import linear_model\n",
    "from sklearn.linear_model import Ridge\n",
    "import xgboost as xgb1\n",
    "from sklearn.ensemble import RandomForestRegressor"
   ]
  },
  {
   "cell_type": "code",
   "execution_count": 112,
   "metadata": {},
   "outputs": [],
   "source": [
    "regr = LinearRegression()\n",
    "ridge = Ridge()\n",
    "xgb = xgb1.XGBRegressor(n_estimator=100,learning_rate=0.08, gamma=0, subsample=0.75,colsample_bytree=1,max_depth=7)\n",
    "classifiers = [\n",
    "    linear_model.BayesianRidge(),\n",
    "    linear_model.LassoLars(),\n",
    "    linear_model.PassiveAggressiveRegressor(),\n",
    "]\n",
    "rf = RandomForestRegressor()\n",
    "maeLR =[]\n",
    "maeRidge=[]\n",
    "maeXgb=[]\n",
    "maeRf=[]"
   ]
  },
  {
   "cell_type": "code",
   "execution_count": 113,
   "metadata": {},
   "outputs": [
    {
     "name": "stderr",
     "output_type": "stream",
     "text": [
      "C:\\Users\\kelad\\Anaconda2\\lib\\site-packages\\ipykernel_launcher.py:24: DataConversionWarning: A column-vector y was passed when a 1d array was expected. Please change the shape of y to (n_samples,), for example using ravel().\n"
     ]
    }
   ],
   "source": [
    "for i in range(1, 11):\n",
    "    #print (\"For user : \", i)\n",
    "    train, validate, test = getUserData(i,frame)\n",
    "    y_train = train.electricUsage.to_frame()\n",
    "    x_train = train.drop(['electricUsage','userId','month','weekday','dateVal','dayOfWeek','winter'],axis=1)\n",
    "    y_test = test.electricUsage.to_frame()\n",
    "    x_test = test.drop(['electricUsage','userId','month','weekday','dateVal','dayOfWeek','winter'],axis=1)\n",
    "    \n",
    "    #Linera Regression\n",
    "    regr.fit(x_train, y_train)\n",
    "    y_pred = regr.predict(x_test)\n",
    "    #print(\"rms linear Regression \" ,mean_squared_error(y_test, y_pred))\n",
    "    #print(\"mean absolute for LR\" ,mean_absolute_error(y_test, y_pred))\n",
    "    maeLR.append(mean_absolute_error(y_test, y_pred))\n",
    "    \n",
    "    #XGB CLASSIFIER \n",
    "    xgb.fit(x_train, y_train)\n",
    "    y_predXGB =xgb.predict(x_test)\n",
    "    #print(\"mean Error XGB \",mean_squared_error(y_test, y_predXGB))\n",
    "    #print(\"mean absolute for xgb\" ,mean_absolute_error(y_test, y_predXGB))\n",
    "    maeXgb.append(mean_absolute_error(y_test, y_predXGB))\n",
    "    \n",
    "    #Random Forest\n",
    "    rf.fit(x_train, y_train)\n",
    "    ypredRf = rf.predict(x_test)\n",
    "    #print(\"mean Error rf \" ,mean_squared_error(y_test, ypredRf))\n",
    "    #print(\"mean absolute for rf \",mean_absolute_error(y_test, ypredRf))\n",
    "    maeRf.append(mean_absolute_error(y_test, ypredRf))\n",
    "    \n",
    "    #Lineear Ridge \n",
    "    ridge.fit(x_train, y_train)\n",
    "    ypredRidge = ridge.predict(x_test)\n",
    "    #print(\"mean Error ridge \" ,mean_squared_error(y_test, ypredRidge))\n",
    "    #print(\"mean absolute for ridge \",mean_absolute_error(y_test, ypredRidge))\n",
    "    maeRidge.append(mean_absolute_error(y_test, ypredRidge))"
   ]
  },
  {
   "cell_type": "code",
   "execution_count": 114,
   "metadata": {},
   "outputs": [
    {
     "name": "stdout",
     "output_type": "stream",
     "text": [
      "   LinearRegression  RandomForest  RidgeExpression       XGB\n",
      "0          0.773981      0.730451         0.774013  0.710590\n",
      "1          0.872683      0.877362         0.872735  0.849566\n",
      "2          0.718097      0.698572         0.718167  0.677758\n",
      "3          0.650748      0.607964         0.650788  0.591269\n",
      "4          0.841604      0.825088         0.841677  0.798556\n",
      "5          0.775506      0.768318         0.775535  0.744627\n",
      "6          0.888061      0.854605         0.888121  0.824806\n",
      "7          1.001448      0.983688         1.001534  0.958172\n",
      "8          0.567067      0.571377         0.567117  0.548501\n",
      "9          0.664078      0.675426         0.664193  0.653530\n"
     ]
    }
   ],
   "source": [
    "mse = pd.DataFrame(\n",
    "    {'LinearRegression': maeLR,\n",
    "     'RidgeExpression': maeRidge,\n",
    "     'XGB': maeXgb,\n",
    "     'RandomForest': maeRf,\n",
    "    })\n",
    "print(mse)"
   ]
  },
  {
   "cell_type": "code",
   "execution_count": null,
   "metadata": {},
   "outputs": [],
   "source": []
  }
 ],
 "metadata": {
  "kernelspec": {
   "display_name": "Python 2",
   "language": "python",
   "name": "python2"
  },
  "language_info": {
   "codemirror_mode": {
    "name": "ipython",
    "version": 2
   },
   "file_extension": ".py",
   "mimetype": "text/x-python",
   "name": "python",
   "nbconvert_exporter": "python",
   "pygments_lexer": "ipython2",
   "version": "2.7.15"
  }
 },
 "nbformat": 4,
 "nbformat_minor": 2
}
